{
 "cells": [
  {
   "cell_type": "code",
   "execution_count": null,
   "metadata": {
    "cell_id": "00000-8f855b28-a1e2-4532-8bdc-047c760d0ffa",
    "deepnote_cell_type": "code",
    "deepnote_to_be_reexecuted": false,
    "execution_millis": 0,
    "execution_start": 1612091815029,
    "source_hash": "e42b38a3",
    "tags": []
   },
   "outputs": [],
   "source": [
    "# here only executting stuff. no functions or classes"
   ]
  },
  {
   "cell_type": "code",
   "execution_count": null,
   "metadata": {
    "cell_id": "00001-48ed086d-0958-40c4-b631-01633394445b",
    "deepnote_cell_type": "code",
    "tags": []
   },
   "outputs": [],
   "source": [
    "## um die models und functions hier nutzen zu können, muss man die datein als module importieren. \n",
    "## das geht auch wenn das notebeooks sind, ist aber deutlich einfacher, wenn es einfach .py dateien sind."
   ]
  },
  {
   "cell_type": "code",
   "execution_count": null,
   "metadata": {
    "cell_id": "00002-055fa27a-321e-4804-bb74-bfbc900f3efe",
    "deepnote_cell_type": "code",
    "deepnote_to_be_reexecuted": false,
    "execution_millis": 123522,
    "execution_start": 1612358121519,
    "output_cleared": true,
    "source_hash": null,
    "tags": []
   },
   "outputs": [],
   "source": [
    "!pip install -r requirements.txt"
   ]
  },
  {
   "cell_type": "markdown",
   "metadata": {
    "cell_id": "00003-78088d56-d67c-4d76-aaea-d95e5e806463",
    "deepnote_cell_type": "markdown",
    "tags": []
   },
   "source": [
    "## H2Z\n"
   ]
  },
  {
   "cell_type": "code",
   "execution_count": 1,
   "metadata": {
    "cell_id": "00004-69591244-834e-497c-9fa0-2eb3d0f0c2dc",
    "deepnote_cell_type": "code",
    "deepnote_to_be_reexecuted": false,
    "execution_millis": 806,
    "execution_start": 1612359290013,
    "output_cleared": false,
    "source_hash": "a260e552",
    "tags": []
   },
   "outputs": [
    {
     "name": "stdout",
     "output_type": "stream",
     "text": [
      "no SGE_TASK_ID set, choosing default model parameters \n"
     ]
    }
   ],
   "source": [
    "#!/usr/bin/env python3\n",
    "#$ -l cuda=1 # remove this line when no GPU is needed!\n",
    "#$ -q all.q # do not fill the qlogin queue\n",
    "#$ -cwd # start processes in current working directory\n",
    "#$ -V # provide environment variables to processes\n",
    "#$ -t 1-8 # start 8 instances: to train different models in parallel\n",
    "#Cluster settings, \n",
    "try:\n",
    "    model_param_id = int(os.environ['SGE_TASK_ID'])\n",
    "except:\n",
    "    print(\"no SGE_TASK_ID set, choosing default model parameters \")\n",
    "    model_param_id = 0 #param_train_cycle_list[0] should be default model params\n",
    "\n",
    "import importlib\n",
    "import models\n",
    "import functions \n",
    "import torch\n",
    "import torch.nn as nn\n",
    "importlib.reload(models)\n",
    "importlib.reload(functions)\n",
    "\n",
    "# init CycleGAN\n",
    "genA2B = models.Generator(input_nc=3, output_nc=3, n_residual_blocks=9)\n",
    "genB2A = models.Generator(input_nc=3, output_nc=3, n_residual_blocks=9)\n",
    "discA  = models.Discriminator(input_nc=3)\n",
    "discB  = models.Discriminator(input_nc=3)\n",
    "classifier = models.Classifier().net\n",
    "device = torch.device(\"cuda:0\" if torch.cuda.is_available() else \"cpu\")\n",
    "root_path_data = \"./data/horse2zebra\"\n",
    "root_path_checkpoints = \"./checkpoints/horse2zebra\"\n",
    "\n",
    "cycle  = models.CycleGAN(genA2B, genB2A, discA, discB, classifier, device, root_path_data, root_path_checkpoints)\n",
    "\n",
    "param_train_cycle  = models.Param(channels = 3, epochs = 2, size= 256,  name =\"cycle_test\")\n",
    "\n",
    "\n",
    "param_train1  = models.Param(channels = 3, epochs = 2, size= 256,  name =\"cycle_r9_advMSE_l10\", resnet_blocks=9, loss_adv=torch.nn.MSELoss(), lambdas=(10,0.5)) # default\n",
    "param_train2  = models.Param(channels = 3, epochs = 2, size= 256,  name =\"cycle_r9_advMSE_l5\" , resnet_blocks=9, loss_adv=torch.nn.MSELoss(), lambdas=(5,0.5))\n",
    "param_train3  = models.Param(channels = 3, epochs = 2, size= 256,  name =\"cycle_r9_advL1_l10\", resnet_blocks=9, loss_adv=torch.nn.L1Loss(), lambdas=(10,0.5))\n",
    "param_train4  = models.Param(channels = 3, epochs = 2, size= 256,  name =\"cycle_r9_advL1_l5\" , resnet_blocks=9, loss_adv=torch.nn.L1Loss(), lambdas=(5,0.5))\n",
    "param_train5  = models.Param(channels = 3, epochs = 2, size= 256,  name =\"cycle_r5_advMSE_l10\", resnet_blocks=5, loss_adv=torch.nn.MSELoss(), lambdas=(10,0.5))\n",
    "param_train6  = models.Param(channels = 3, epochs = 2, size= 256,  name =\"cycle_r5_advMSE_l5\" , resnet_blocks=5, loss_adv=torch.nn.MSELoss(), lambdas=(5,0.5))\n",
    "param_train7  = models.Param(channels = 3, epochs = 2, size= 256,  name =\"cycle_r5_advL1_l10\", resnet_blocks=5, loss_adv=torch.nn.L1Loss(), lambdas=(10,0.5))\n",
    "param_train8  = models.Param(channels = 3, epochs = 2, size= 256,  name =\"cycle_r5_advL1_l5\" , resnet_blocks=5, loss_adv=torch.nn.L1Loss(), lambdas=(5,0.5))\n",
    "param_train_cycle_list = [param_train1, param_train2, param_train3, param_train4, param_train5, param_train6, param_train7, param_train8]\n",
    "\n",
    "param_eval_testset = models.Param(channels = 3, size= 256) \n",
    "param_train_classifier = models.Param(channels = 3, epochs = 2, size = 256, name = \"classifier_test\")"
   ]
  },
  {
   "cell_type": "code",
   "execution_count": 2,
   "metadata": {
    "cell_id": "00005-21a69203-9d82-4e21-b079-cfc1822bbc44",
    "deepnote_cell_type": "code",
    "deepnote_to_be_reexecuted": false,
    "execution_millis": 160758,
    "execution_start": 1612359295923,
    "source_hash": "ac60d785",
    "tags": []
   },
   "outputs": [
    {
     "name": "stdout",
     "output_type": "stream",
     "text": [
      "training started!...\n",
      "creating checkpointsfolder ./checkpoints/horse2zebra\n",
      "logfile running at ./checkpoints/horse2zebra/logcycle_r5_advL1_l5.txt\n"
     ]
    },
    {
     "ename": "KeyboardInterrupt",
     "evalue": "",
     "output_type": "error",
     "traceback": [
      "\u001b[0;31m---------------------------------------------------------------------------\u001b[0m",
      "\u001b[0;31mKeyboardInterrupt\u001b[0m                         Traceback (most recent call last)",
      "\u001b[0;32m<ipython-input-2-be39201d1f96>\u001b[0m in \u001b[0;36m<module>\u001b[0;34m\u001b[0m\n\u001b[1;32m      3\u001b[0m \u001b[0;31m#load the model_param_id parameters (used for parallel training on cluster)\u001b[0m\u001b[0;34m\u001b[0m\u001b[0;34m\u001b[0m\u001b[0;34m\u001b[0m\u001b[0m\n\u001b[1;32m      4\u001b[0m \u001b[0mparam_train_cycle\u001b[0m \u001b[0;34m=\u001b[0m \u001b[0mparam_train_cycle_list\u001b[0m\u001b[0;34m[\u001b[0m\u001b[0mmodel_param_id\u001b[0m\u001b[0;34m-\u001b[0m\u001b[0;36m1\u001b[0m\u001b[0;34m]\u001b[0m\u001b[0;34m\u001b[0m\u001b[0;34m\u001b[0m\u001b[0m\n\u001b[0;32m----> 5\u001b[0;31m \u001b[0mcycle\u001b[0m\u001b[0;34m.\u001b[0m\u001b[0mtrain\u001b[0m\u001b[0;34m(\u001b[0m\u001b[0mparam_train_cycle\u001b[0m\u001b[0;34m)\u001b[0m\u001b[0;34m\u001b[0m\u001b[0;34m\u001b[0m\u001b[0m\n\u001b[0m\u001b[1;32m      6\u001b[0m \u001b[0msys\u001b[0m\u001b[0;34m.\u001b[0m\u001b[0mexit\u001b[0m\u001b[0;34m(\u001b[0m\u001b[0;34m\"Training done\"\u001b[0m\u001b[0;34m)\u001b[0m\u001b[0;34m\u001b[0m\u001b[0;34m\u001b[0m\u001b[0m\n\u001b[1;32m      7\u001b[0m \u001b[0;34m'''funktionieren:'''\u001b[0m\u001b[0;34m\u001b[0m\u001b[0;34m\u001b[0m\u001b[0m\n",
      "\u001b[0;32m~/Downloads/misc/pmlproject/milestone3/cycleGAN/models.py\u001b[0m in \u001b[0;36mtrain\u001b[0;34m(self, param)\u001b[0m\n\u001b[1;32m    175\u001b[0m                 \u001b[0;31m# Total loss\u001b[0m\u001b[0;34m\u001b[0m\u001b[0;34m\u001b[0m\u001b[0;34m\u001b[0m\u001b[0m\n\u001b[1;32m    176\u001b[0m                 \u001b[0mloss_G\u001b[0m \u001b[0;34m=\u001b[0m \u001b[0mgan_loss\u001b[0m \u001b[0;34m+\u001b[0m \u001b[0;34m(\u001b[0m\u001b[0midentity_loss\u001b[0m \u001b[0;34m*\u001b[0m \u001b[0mlambda_iden\u001b[0m\u001b[0;34m)\u001b[0m \u001b[0;34m+\u001b[0m \u001b[0;34m(\u001b[0m\u001b[0mcycle_loss\u001b[0m \u001b[0;34m*\u001b[0m \u001b[0mlambda_cyc\u001b[0m\u001b[0;34m)\u001b[0m\u001b[0;34m\u001b[0m\u001b[0;34m\u001b[0m\u001b[0m\n\u001b[0;32m--> 177\u001b[0;31m                 \u001b[0mloss_G\u001b[0m\u001b[0;34m.\u001b[0m\u001b[0mbackward\u001b[0m\u001b[0;34m(\u001b[0m\u001b[0;34m)\u001b[0m\u001b[0;34m\u001b[0m\u001b[0;34m\u001b[0m\u001b[0m\n\u001b[0m\u001b[1;32m    178\u001b[0m \u001b[0;34m\u001b[0m\u001b[0m\n\u001b[1;32m    179\u001b[0m                 \u001b[0moptimizer_G\u001b[0m\u001b[0;34m.\u001b[0m\u001b[0mstep\u001b[0m\u001b[0;34m(\u001b[0m\u001b[0;34m)\u001b[0m\u001b[0;34m\u001b[0m\u001b[0;34m\u001b[0m\u001b[0m\n",
      "\u001b[0;32m~/Downloads/misc/pmlproject/milestone3/virt_pml/lib/python3.7/site-packages/torch/tensor.py\u001b[0m in \u001b[0;36mbackward\u001b[0;34m(self, gradient, retain_graph, create_graph)\u001b[0m\n\u001b[1;32m    219\u001b[0m                 \u001b[0mretain_graph\u001b[0m\u001b[0;34m=\u001b[0m\u001b[0mretain_graph\u001b[0m\u001b[0;34m,\u001b[0m\u001b[0;34m\u001b[0m\u001b[0;34m\u001b[0m\u001b[0m\n\u001b[1;32m    220\u001b[0m                 create_graph=create_graph)\n\u001b[0;32m--> 221\u001b[0;31m         \u001b[0mtorch\u001b[0m\u001b[0;34m.\u001b[0m\u001b[0mautograd\u001b[0m\u001b[0;34m.\u001b[0m\u001b[0mbackward\u001b[0m\u001b[0;34m(\u001b[0m\u001b[0mself\u001b[0m\u001b[0;34m,\u001b[0m \u001b[0mgradient\u001b[0m\u001b[0;34m,\u001b[0m \u001b[0mretain_graph\u001b[0m\u001b[0;34m,\u001b[0m \u001b[0mcreate_graph\u001b[0m\u001b[0;34m)\u001b[0m\u001b[0;34m\u001b[0m\u001b[0;34m\u001b[0m\u001b[0m\n\u001b[0m\u001b[1;32m    222\u001b[0m \u001b[0;34m\u001b[0m\u001b[0m\n\u001b[1;32m    223\u001b[0m     \u001b[0;32mdef\u001b[0m \u001b[0mregister_hook\u001b[0m\u001b[0;34m(\u001b[0m\u001b[0mself\u001b[0m\u001b[0;34m,\u001b[0m \u001b[0mhook\u001b[0m\u001b[0;34m)\u001b[0m\u001b[0;34m:\u001b[0m\u001b[0;34m\u001b[0m\u001b[0;34m\u001b[0m\u001b[0m\n",
      "\u001b[0;32m~/Downloads/misc/pmlproject/milestone3/virt_pml/lib/python3.7/site-packages/torch/autograd/__init__.py\u001b[0m in \u001b[0;36mbackward\u001b[0;34m(tensors, grad_tensors, retain_graph, create_graph, grad_variables)\u001b[0m\n\u001b[1;32m    130\u001b[0m     Variable._execution_engine.run_backward(\n\u001b[1;32m    131\u001b[0m         \u001b[0mtensors\u001b[0m\u001b[0;34m,\u001b[0m \u001b[0mgrad_tensors_\u001b[0m\u001b[0;34m,\u001b[0m \u001b[0mretain_graph\u001b[0m\u001b[0;34m,\u001b[0m \u001b[0mcreate_graph\u001b[0m\u001b[0;34m,\u001b[0m\u001b[0;34m\u001b[0m\u001b[0;34m\u001b[0m\u001b[0m\n\u001b[0;32m--> 132\u001b[0;31m         allow_unreachable=True)  # allow_unreachable flag\n\u001b[0m\u001b[1;32m    133\u001b[0m \u001b[0;34m\u001b[0m\u001b[0m\n\u001b[1;32m    134\u001b[0m \u001b[0;34m\u001b[0m\u001b[0m\n",
      "\u001b[0;31mKeyboardInterrupt\u001b[0m: "
     ]
    }
   ],
   "source": [
    "### test functions\n",
    "''' scheint zu funktionieren, aber nicht sonderlich fuer deepnote geeigent'''\n",
    "#load the model_param_id parameters (used for parallel training on cluster)\n",
    "param_train_cycle = param_train_cycle_list[model_param_id-1]\n",
    "cycle.train(param_train_cycle)   \n",
    "sys.exit(\"Training done\")     \n",
    "'''funktionieren:'''\n",
    "cycle.load_classifier()\n",
    "cycle.load_cycle_nets(epoch = 100)\n",
    "\n",
    "'''damit eval_testset sinnvoll funktioniert, muss man vorher einmal load_classifier und load_cycle_nets ausführen'''\n",
    "# eval_testset calculates the classifiers prediction for several pairs of original and generted images\n",
    "# it returns the examined pictures in batch-form and two lists storing the classifiers prediction for the batches respectively\n",
    "# if plot = True all chosen pairs as plottet with their classification scores\n",
    "org, gen, org_percentage, gen_percentage = cycle.eval_testset(param_eval_testset, source_domain= \"A\",pic_number_low =0 , pic_number_high = 1, plot = True, explain = False) \n",
    "print(org_percentage)\n",
    "print(gen_percentage)\n",
    "\n",
    "''' scheint zu funktionieren, fuer h2z ist bereits ein classifier trainiert, fuer andere datensaetze noch nicht, nicht sonderlich fuer deepnote geeignet'''\n",
    "#cycle.train_classifier(param_train_classifier) \n",
    "\n",
    "'''noch nicht implementiert / aus altem code ubernommen:'''\n",
    "# contiue_train\n",
    "\n"
   ]
  },
  {
   "cell_type": "markdown",
   "metadata": {
    "cell_id": "00004-d6a34026-15f5-4d93-a4da-13dcf62fd18f",
    "deepnote_cell_type": "markdown",
    "tags": []
   },
   "source": [
    "## MNIST TEST"
   ]
  },
  {
   "cell_type": "code",
   "execution_count": null,
   "metadata": {
    "cell_id": "00002-dc3dd668-906a-4797-bdff-bc40a4d2fb4f",
    "deepnote_cell_type": "code",
    "deepnote_to_be_reexecuted": false,
    "execution_millis": 4373,
    "execution_start": 1612251360913,
    "source_hash": "7916abb2",
    "tags": []
   },
   "outputs": [
    {
     "ename": "TypeError",
     "evalue": "__init__() missing 2 required positional arguments: 'root_path_data' and 'root_path_checkpoints'",
     "output_type": "error",
     "traceback": [
      "\u001b[0;31m---------------------------------------------------------------------------\u001b[0m",
      "\u001b[0;31mTypeError\u001b[0m                                 Traceback (most recent call last)",
      "\u001b[0;32m<ipython-input-5-3dbfa232436c>\u001b[0m in \u001b[0;36m<module>\u001b[0;34m\u001b[0m\n\u001b[1;32m     14\u001b[0m \u001b[0mpathB_Test\u001b[0m \u001b[0;34m=\u001b[0m \u001b[0;34m'data/mnist2fog_1000/testB/'\u001b[0m\u001b[0;34m\u001b[0m\u001b[0;34m\u001b[0m\u001b[0m\n\u001b[1;32m     15\u001b[0m \u001b[0;31m# train\u001b[0m\u001b[0;34m\u001b[0m\u001b[0;34m\u001b[0m\u001b[0;34m\u001b[0m\u001b[0m\n\u001b[0;32m---> 16\u001b[0;31m \u001b[0mcycle\u001b[0m \u001b[0;34m=\u001b[0m \u001b[0mmodels\u001b[0m\u001b[0;34m.\u001b[0m\u001b[0mCycleGAN\u001b[0m\u001b[0;34m(\u001b[0m\u001b[0mgenA2B\u001b[0m\u001b[0;34m,\u001b[0m \u001b[0mgenB2A\u001b[0m\u001b[0;34m,\u001b[0m \u001b[0mdiscA\u001b[0m\u001b[0;34m,\u001b[0m \u001b[0mdiscB\u001b[0m\u001b[0;34m,\u001b[0m \u001b[0;34m\"dummy\"\u001b[0m\u001b[0;34m,\u001b[0m \u001b[0;34m\"cpu\"\u001b[0m\u001b[0;34m)\u001b[0m\u001b[0;34m\u001b[0m\u001b[0;34m\u001b[0m\u001b[0m\n\u001b[0m\u001b[1;32m     17\u001b[0m params = models.Param(\n\u001b[1;32m     18\u001b[0m     \u001b[0mchannels\u001b[0m\u001b[0;34m=\u001b[0m\u001b[0;36m1\u001b[0m\u001b[0;34m,\u001b[0m\u001b[0;34m\u001b[0m\u001b[0;34m\u001b[0m\u001b[0m\n",
      "\u001b[0;31mTypeError\u001b[0m: __init__() missing 2 required positional arguments: 'root_path_data' and 'root_path_checkpoints'"
     ]
    }
   ],
   "source": [
    "import models\n",
    "import functions\n",
    "## das hier nur test. spaeter wieder loeschen\n",
    "genA2B = models.Small_Generator(input_nc=1, output_nc=1, n_residual_blocks=3)\n",
    "genB2A = models.Small_Generator(input_nc=1, output_nc=1, n_residual_blocks=3)\n",
    "discA  = models.Small_Discriminator(input_nc=1)\n",
    "discB  = models.Small_Discriminator(input_nc=1)\n",
    "\n",
    "# collect data\n",
    "functions.get_data_MNIST('fog',1000,100)\n",
    "pathA_Train = 'data/mnist2fog_1000/trainA/'\n",
    "pathB_Train = 'data/mnist2fog_1000/trainB/'\n",
    "pathA_Test = 'data/mnist2fog_1000/testA/'\n",
    "pathB_Test = 'data/mnist2fog_1000/testB/'\n",
    "# train\n",
    "cycle = models.CycleGAN(genA2B, genB2A, discA, discB, \"dummy\", \"cpu\")\n",
    "params = models.Param(\n",
    "    channels=1,\n",
    "    epochs=20,\n",
    "    size=28,\n",
    "    pathA_Train=pathA_Train,\n",
    "    pathB_Train=pathB_Train,\n",
    "    pathA_Test=pathA_Test,\n",
    "    pathB_Test=pathB_Test  \n",
    ")\n",
    "\n",
    "cycle.train(params)"
   ]
  },
  {
   "cell_type": "code",
   "execution_count": null,
   "metadata": {
    "cell_id": "00007-177dbc69-c3a0-4dc2-9b5f-2d44943564c9",
    "deepnote_cell_type": "code",
    "deepnote_to_be_reexecuted": false,
    "execution_millis": 1203,
    "execution_start": 1612354993490,
    "output_cleared": true,
    "source_hash": null,
    "tags": []
   },
   "outputs": [],
   "source": []
  },
  {
   "cell_type": "code",
   "execution_count": null,
   "metadata": {
    "cell_id": "00009-743a3201-4f6b-4ccb-9e8d-a59dc24c798d",
    "deepnote_cell_type": "code",
    "tags": []
   },
   "outputs": [],
   "source": []
  }
 ],
 "metadata": {
  "deepnote_execution_queue": [],
  "deepnote_notebook_id": "bfdeedbb-9869-448c-a7f5-bad7097fc492",
  "kernelspec": {
   "display_name": "Python 3",
   "language": "python",
   "name": "python3"
  },
  "language_info": {
   "codemirror_mode": {
    "name": "ipython",
    "version": 3
   },
   "file_extension": ".py",
   "mimetype": "text/x-python",
   "name": "python",
   "nbconvert_exporter": "python",
   "pygments_lexer": "ipython3",
   "version": "3.7.3"
  }
 },
 "nbformat": 4,
 "nbformat_minor": 2
}
