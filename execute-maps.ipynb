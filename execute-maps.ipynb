{
 "cells": [
  {
   "cell_type": "code",
   "execution_count": null,
   "metadata": {
    "cell_id": "00000-8f855b28-a1e2-4532-8bdc-047c760d0ffa",
    "deepnote_cell_type": "code",
    "deepnote_to_be_reexecuted": false,
    "execution_millis": 3,
    "execution_start": 1613383383272,
    "source_hash": "e42b38a3",
    "tags": []
   },
   "outputs": [],
   "source": [
    "# here only executting stuff. no functions or classes"
   ]
  },
  {
   "cell_type": "code",
   "execution_count": null,
   "metadata": {
    "cell_id": "00001-48ed086d-0958-40c4-b631-01633394445b",
    "deepnote_cell_type": "code",
    "deepnote_to_be_reexecuted": false,
    "execution_millis": 4,
    "execution_start": 1613383383277,
    "source_hash": "89766bc1",
    "tags": []
   },
   "outputs": [],
   "source": [
    "## um die models und functions hier nutzen zu können, muss man die datein als module importieren. \n",
    "## das geht auch wenn das notebeooks sind, ist aber deutlich einfacher, wenn es einfach .py dateien sind."
   ]
  },
  {
   "cell_type": "code",
   "execution_count": null,
   "metadata": {
    "cell_id": "00002-055fa27a-321e-4804-bb74-bfbc900f3efe",
    "deepnote_cell_type": "code",
    "deepnote_to_be_reexecuted": false,
    "execution_millis": 4005,
    "execution_start": 1613557472059,
    "output_cleared": false,
    "source_hash": "7958d4a9",
    "tags": []
   },
   "outputs": [],
   "source": [
    "!pip install -r requirements.txt"
   ]
  },
  {
   "cell_type": "markdown",
   "metadata": {
    "cell_id": "00003-78088d56-d67c-4d76-aaea-d95e5e806463",
    "deepnote_cell_type": "markdown",
    "tags": []
   },
   "source": [
    "## CycleGAN Maps \n"
   ]
  },
  {
   "cell_type": "code",
   "execution_count": 55,
   "metadata": {
    "cell_id": "00004-69591244-834e-497c-9fa0-2eb3d0f0c2dc",
    "deepnote_cell_type": "code",
    "deepnote_to_be_reexecuted": false,
    "execution_millis": 3615,
    "execution_start": 1613557491964,
    "output_cleared": false,
    "source_hash": "50790b38",
    "tags": []
   },
   "outputs": [
    {
     "name": "stdout",
     "output_type": "stream",
     "text": [
      "the device ist at\n",
      "cuda\n",
      "should models to cuda\n",
      "device == cuda -> False\n"
     ]
    }
   ],
   "source": [
    "#!/usr/bin/env python3\n",
    "#-*- coding:utf-8 -*-\n",
    "#$ -l cuda=1 # remove this line when no GPU is needed!\n",
    "#$ -q all.q # do not fill the qlogin queue\n",
    "#$ -cwd # start processes in current working directory\n",
    "#$ -V # provide environment variables to processes\n",
    "#$ -t 1-8 # start 8 instances: to train different models in parallel\n",
    "#Cluster settings, \n",
    "'''\n",
    "try:\n",
    "    model_param_id = int(os.environ['SGE_TASK_ID'])\n",
    "except:\n",
    "    print(\"no SGE_TASK_ID set, choosing default model parameters \")\n",
    "    model_param_id = 0 #param_train_cycle_list[0] should be default model params\n",
    "'''\n",
    "import importlib\n",
    "import models\n",
    "import functions \n",
    "import torch\n",
    "import torch.nn as nn\n",
    "importlib.reload(models)\n",
    "importlib.reload(functions)\n",
    "import numpy as np\n",
    "#different import way for cluster\n",
    "'''\n",
    "import imp\n",
    "models = imp.load_source('models', './models.py')\n",
    "functions = imp.load_source('functions', './functions.py')\n",
    "'''\n",
    "\n",
    "# init CycleGAN\n",
    "genA2B = models.Generator(input_nc=3, output_nc=3, n_residual_blocks=9)\n",
    "genB2A = models.Generator(input_nc=3, output_nc=3, n_residual_blocks=9)\n",
    "discA  = models.Discriminator(input_nc=3)\n",
    "discB  = models.Discriminator(input_nc=3)\n",
    "classifier = models.Classifier().net\n",
    "device = torch.device(\"cuda\" if torch.cuda.is_available() else \"cpu\")\n",
    "databaseName = \"maps\"\n",
    "root_path_data = \"./data/\"+databaseName\n",
    "root_path_checkpoints = \"./checkpoints/\"+databaseName\n",
    "\n",
    "targetEpoch = 50\n",
    "saveAt = 1 #how often to store the model at training\n",
    "print(\"the device ist at\")\n",
    "print(device)\n",
    "\n",
    "if device == torch.device(\"cuda\"):\n",
    "    #debug\n",
    "    print(\"should models to cuda\")\n",
    "    print(\"device == cuda -> \"+ str(device == \"cuda:0\"))\n",
    "    #model.load_state_dict(torch.load(\"{}/{} epoch{}\".format(path, name, epoch)))\n",
    "else:\n",
    "    #debug\n",
    "    print(\"should models to cpu\")\n",
    "    print(\"device == cuda -> \"+ str(device == \"cuda:0\"))\n",
    "    #model.load_state_dict(torch.load(\"{}/{} epoch{}\".format(path, name, epoch),map_location=torch.device('cpu')))\n",
    "\n",
    "cycle  = models.CycleGAN(genA2B, genB2A, discA, discB, classifier, device, root_path_data, root_path_checkpoints)\n",
    "\n",
    "\n",
    "param_train1  = models.Param(channels = 3, epochs = targetEpoch, saveEpoch = saveAt, size= 256,  name =\"cycle_r9_advMSE_l10\", resnet_blocks=9, loss_adv=torch.nn.MSELoss(), lambdas=(10,0.5)) # default\n",
    "param_train2  = models.Param(channels = 3, epochs = targetEpoch, saveEpoch = saveAt, size= 256,  name =\"cycle_r9_advMSE_l5\" , resnet_blocks=9, loss_adv=torch.nn.MSELoss(), lambdas=(5,0.5))\n",
    "param_train3  = models.Param(channels = 3, epochs = targetEpoch, saveEpoch = saveAt, size= 256,  name =\"cycle_r9_advL1_l10\", resnet_blocks=9, loss_adv=torch.nn.L1Loss(), lambdas=(10,0.5))\n",
    "param_train4  = models.Param(channels = 3, epochs = targetEpoch, saveEpoch = saveAt, size= 256,  name =\"cycle_r9_advL1_l5\" , resnet_blocks=9, loss_adv=torch.nn.L1Loss(), lambdas=(5,0.5))\n",
    "param_train5  = models.Param(channels = 3, epochs = targetEpoch, saveEpoch = saveAt, size= 256,  name =\"cycle_r5_advMSE_l10\", resnet_blocks=5, loss_adv=torch.nn.MSELoss(), lambdas=(10,0.5))\n",
    "param_train6  = models.Param(channels = 3, epochs = targetEpoch, saveEpoch = saveAt, size= 256,  name =\"cycle_r5_advMSE_l5\" , resnet_blocks=5, loss_adv=torch.nn.MSELoss(), lambdas=(5,0.5))\n",
    "param_train7  = models.Param(channels = 3, epochs = targetEpoch, saveEpoch = saveAt, size= 256,  name =\"cycle_r5_advL1_l10\", resnet_blocks=5, loss_adv=torch.nn.L1Loss(), lambdas=(10,0.5))\n",
    "param_train8  = models.Param(channels = 3, epochs = targetEpoch, saveEpoch = saveAt, size= 256,  name =\"cycle_r5_advL1_l5\" , resnet_blocks=5, loss_adv=torch.nn.L1Loss(), lambdas=(5,0.5))\n",
    "param_train_cycle_list = [param_train1, param_train2, param_train3, param_train4, param_train5, param_train6, param_train7, param_train8]\n",
    "\n",
    "# paramter to load the background error verison. since this extension needed major changes in training/loaded training was done locally.\n",
    "param_back_err = models.Param(name =\"background_default\", epochs = 80)\n",
    "\n",
    "# paramters needed to call eval_testset() function\n",
    "param_eval_testset = models.Param(channels = 3, size= 256) \n",
    "\n",
    "# parameters used for training the classifier\n",
    "param_train_classifier = models.Param(channels = 3, epochs = targetEpoch, size = 256, name = \"classifier_test\")"
   ]
  },
  {
   "cell_type": "markdown",
   "metadata": {},
   "source": [
    "## Generate Results"
   ]
  },
  {
   "cell_type": "code",
   "execution_count": 56,
   "metadata": {},
   "outputs": [],
   "source": [
    "#for every model --TODO\n",
    "#for paramItem in param_train_cycle_list:\n",
    "    #load model\n",
    "    #cycle.load_cycle_nets(epoch = 50, model_name = paramItem.name)\n",
    "    #print(device)\n",
    "    #generate for every test image some output image\n",
    "    #cycle._create_evalset_paired(paramItem,subfolder=paramItem.name)\n",
    "    #calculate error with expected image\n",
    "\n",
    "#compare errors between models\n",
    "\n",
    "#run pix2pix ? and compare it with that?\n"
   ]
  },
  {
   "cell_type": "markdown",
   "metadata": {},
   "source": [
    "## Calculate Error for each model"
   ]
  },
  {
   "cell_type": "code",
   "execution_count": 57,
   "metadata": {},
   "outputs": [],
   "source": [
    "#MSE? SSIM? FCN? \n",
    "import os\n",
    "from PIL import Image\n",
    "import torchvision.transforms as transforms\n",
    "\n",
    "\n",
    "losses= {}\n",
    "for paramItem in param_train_cycle_list:\n",
    "    source_domains = [\"A\", \"B\"]\n",
    "    subfolder = paramItem.name\n",
    "    losses[paramItem.name]={}\n",
    "    for source in source_domains:  \n",
    "        losses[paramItem.name][source]=[]\n",
    "        folder=root_path_data + \"/eval{}/{}/\".format(source,subfolder)\n",
    "        folderSize = int(len(os.listdir(folder)) / 3)\n",
    "        for i in range(0,folderSize):\n",
    "            gen=\"{}{}_generated.jpg\".format(folder, i)\n",
    "            exp=\"{}{}_expected.jpg\".format(folder, i)\n",
    "            gen=Image.open(gen)\n",
    "            exp=Image.open(exp)\n",
    "            loss=functions.calcL1(gen,exp)\n",
    "            losses[paramItem.name][source].append(loss)\n",
    "    "
   ]
  },
  {
   "cell_type": "markdown",
   "metadata": {},
   "source": [
    "## display losses"
   ]
  },
  {
   "cell_type": "code",
   "execution_count": 73,
   "metadata": {},
   "outputs": [
    {
     "name": "stdout",
     "output_type": "stream",
     "text": [
      "param:cycle_r9_advMSE_l10 source:A std:0.021128 sum:44.468000 overall:207.642\n",
      "param:cycle_r9_advMSE_l10 source:B std:0.027676 sum:163.174000 overall:207.642\n",
      "param:cycle_r9_advMSE_l5 source:A std:0.018349 sum:41.879000 overall:212.426\n",
      "param:cycle_r9_advMSE_l5 source:B std:0.027998 sum:170.547000 overall:212.426\n",
      "param:cycle_r9_advL1_l10 source:A std:0.020923 sum:43.669000 overall:201.413\n",
      "param:cycle_r9_advL1_l10 source:B std:0.026593 sum:157.744000 overall:201.413\n",
      "param:cycle_r9_advL1_l5 source:A std:0.017752 sum:45.098000 overall:202.21200000000002\n",
      "param:cycle_r9_advL1_l5 source:B std:0.026540 sum:157.114000 overall:202.21200000000002\n",
      "param:cycle_r5_advMSE_l10 source:A std:0.023278 sum:45.731000 overall:211.471\n",
      "param:cycle_r5_advMSE_l10 source:B std:0.028075 sum:165.740000 overall:211.471\n",
      "param:cycle_r5_advMSE_l5 source:A std:0.021359 sum:44.727000 overall:205.86300000000003\n",
      "param:cycle_r5_advMSE_l5 source:B std:0.027667 sum:161.136000 overall:205.86300000000003\n",
      "param:cycle_r5_advL1_l10 source:A std:0.018759 sum:43.503000 overall:211.39600000000002\n",
      "param:cycle_r5_advL1_l10 source:B std:0.026640 sum:167.893000 overall:211.39600000000002\n",
      "param:cycle_r5_advL1_l5 source:A std:0.017791 sum:41.876000 overall:199.67000000000002\n",
      "param:cycle_r5_advL1_l5 source:B std:0.026495 sum:157.794000 overall:199.67000000000002\n"
     ]
    }
   ],
   "source": [
    "for paramItem in param_train_cycle_list:\n",
    "    source_domains = [\"A\", \"B\"]\n",
    "    for source in source_domains:\n",
    "        summ = np.array(losses[paramItem.name][source]).sum()\n",
    "        std = np.std(losses[paramItem.name][source])\n",
    "        overall = np.array(losses[paramItem.name]['A']).sum() + np.array(losses[paramItem.name]['B']).sum()\n",
    "        print(\"param:{} source:{} std:{:2f} sum:{:0f} overall:{}\".format(paramItem.name,source,std,summ,overall))"
   ]
  },
  {
   "cell_type": "code",
   "execution_count": null,
   "metadata": {
    "scrolled": true
   },
   "outputs": [],
   "source": [
    "bla\n",
    "for paramItem in param_train_cycle_list:\n",
    "    print(type(paramItem.name))\n",
    "    print(type(\"hallo\"))"
   ]
  },
  {
   "cell_type": "code",
   "execution_count": 58,
   "metadata": {},
   "outputs": [
    {
     "data": {
      "text/plain": [
       "8"
      ]
     },
     "execution_count": 58,
     "metadata": {},
     "output_type": "execute_result"
    }
   ],
   "source": []
  },
  {
   "cell_type": "code",
   "execution_count": 60,
   "metadata": {},
   "outputs": [],
   "source": []
  },
  {
   "cell_type": "code",
   "execution_count": null,
   "metadata": {},
   "outputs": [],
   "source": [
    "hallo[\"asd\"]=123"
   ]
  },
  {
   "cell_type": "code",
   "execution_count": null,
   "metadata": {},
   "outputs": [],
   "source": []
  }
 ],
 "metadata": {
  "deepnote": {},
  "deepnote_execution_queue": [],
  "deepnote_notebook_id": "bfdeedbb-9869-448c-a7f5-bad7097fc492",
  "kernelspec": {
   "display_name": "Python 3",
   "language": "python",
   "name": "python3"
  },
  "language_info": {
   "codemirror_mode": {
    "name": "ipython",
    "version": 3
   },
   "file_extension": ".py",
   "mimetype": "text/x-python",
   "name": "python",
   "nbconvert_exporter": "python",
   "pygments_lexer": "ipython3",
   "version": "3.8.5"
  }
 },
 "nbformat": 4,
 "nbformat_minor": 2
}
